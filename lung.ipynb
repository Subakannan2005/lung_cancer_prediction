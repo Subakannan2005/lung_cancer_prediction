{
  "cells": [
    {
      "cell_type": "code",
      "execution_count": null,
      "metadata": {
        "id": "M6GgyIOHM80Q"
      },
      "outputs": [],
      "source": [
        "import numpy as np\n",
        "import pandas as pd\n",
        "import pickle\n",
        "\n",
        "from sklearn.preprocessing import LabelEncoder\n",
        "from sklearn.ensemble import RandomForestClassifier\n",
        "from sklearn.model_selection import train_test_split\n",
        "from sklearn.metrics import accuracy_score\n"
      ]
    },
    {
      "cell_type": "code",
      "execution_count": null,
      "metadata": {
        "id": "vpwh1zu1M8wF"
      },
      "outputs": [],
      "source": [
        "# Replace with your actual file name\n",
        "lung = pd.read_csv(\"cancer patient data sets.csv\")\n",
        "\n",
        "\n"
      ]
    },
    {
      "cell_type": "code",
      "execution_count": null,
      "metadata": {
        "colab": {
          "base_uri": "https://localhost:8080/"
        },
        "id": "XAlJaenSM8tg",
        "outputId": "48b7fdc0-3b94-4f5e-f0a9-a6678e9dce9c"
      },
      "outputs": [
        {
          "name": "stdout",
          "output_type": "stream",
          "text": [
            "<class 'pandas.core.frame.DataFrame'>\n",
            "RangeIndex: 1000 entries, 0 to 999\n",
            "Data columns (total 26 columns):\n",
            " #   Column                    Non-Null Count  Dtype \n",
            "---  ------                    --------------  ----- \n",
            " 0   index                     1000 non-null   int64 \n",
            " 1   Patient Id                1000 non-null   int64 \n",
            " 2   Age                       1000 non-null   int64 \n",
            " 3   Gender                    1000 non-null   int64 \n",
            " 4   Air Pollution             1000 non-null   int64 \n",
            " 5   Alcohol use               1000 non-null   int64 \n",
            " 6   Dust Allergy              1000 non-null   int64 \n",
            " 7   OccuPational Hazards      1000 non-null   int64 \n",
            " 8   Genetic Risk              1000 non-null   int64 \n",
            " 9   chronic Lung Disease      1000 non-null   int64 \n",
            " 10  Balanced Diet             1000 non-null   int64 \n",
            " 11  Obesity                   1000 non-null   int64 \n",
            " 12  Smoking                   1000 non-null   int64 \n",
            " 13  Passive Smoker            1000 non-null   int64 \n",
            " 14  Chest Pain                1000 non-null   int64 \n",
            " 15  Coughing of Blood         1000 non-null   int64 \n",
            " 16  Fatigue                   1000 non-null   int64 \n",
            " 17  Weight Loss               1000 non-null   int64 \n",
            " 18  Shortness of Breath       1000 non-null   int64 \n",
            " 19  Wheezing                  1000 non-null   int64 \n",
            " 20  Swallowing Difficulty     1000 non-null   int64 \n",
            " 21  Clubbing of Finger Nails  1000 non-null   int64 \n",
            " 22  Frequent Cold             1000 non-null   int64 \n",
            " 23  Dry Cough                 1000 non-null   int64 \n",
            " 24  Snoring                   1000 non-null   int64 \n",
            " 25  Level                     1000 non-null   object\n",
            "dtypes: int64(25), object(1)\n",
            "memory usage: 203.3+ KB\n"
          ]
        }
      ],
      "source": [
        "le = LabelEncoder()\n",
        "lung['Patient Id'] = le.fit_transform(lung['Patient Id'])\n",
        "\n",
        "lung.info()\n"
      ]
    },
    {
      "cell_type": "code",
      "execution_count": null,
      "metadata": {
        "id": "2qKQjV0vM8oT"
      },
      "outputs": [],
      "source": [
        "X = lung[[\"Patient Id\", \"Age\", \"Gender\", \"Air Pollution\", \"Alcohol use\", \"Dust Allergy\",\n",
        "          \"OccuPational Hazards\", \"Genetic Risk\", \"chronic Lung Disease\", \"Fatigue\",\n",
        "          \"Weight Loss\", \"Shortness of Breath\", \"Wheezing\", \"Swallowing Difficulty\",\n",
        "          \"Clubbing of Finger Nails\", \"Frequent Cold\", \"Dry Cough\", \"Snoring\"]]\n",
        "\n",
        "y = lung[\"Level\"]\n"
      ]
    },
    {
      "cell_type": "code",
      "execution_count": null,
      "metadata": {
        "colab": {
          "base_uri": "https://localhost:8080/"
        },
        "id": "0cOxmBvCM8mL",
        "outputId": "e5872646-8f4d-4db8-97fe-ab0486c8fd9c"
      },
      "outputs": [
        {
          "name": "stdout",
          "output_type": "stream",
          "text": [
            "✅ Model Accuracy: 1.0\n"
          ]
        }
      ],
      "source": [
        "X_train, X_test, y_train, y_test = train_test_split(X, y, test_size=0.2, random_state=42)\n",
        "\n",
        "model = RandomForestClassifier()\n",
        "model.fit(X_train, y_train)\n",
        "\n",
        "# Predict and evaluate\n",
        "y_pred = model.predict(X_test)\n",
        "accuracy = accuracy_score(y_test, y_pred)\n",
        "print(\"✅ Model Accuracy:\", accuracy)\n"
      ]
    },
    {
      "cell_type": "code",
      "execution_count": null,
      "metadata": {
        "colab": {
          "base_uri": "https://localhost:8080/"
        },
        "id": "o0eA7aMJM8jZ",
        "outputId": "dfa53463-99d6-4023-d463-963a4133447b"
      },
      "outputs": [
        {
          "name": "stdout",
          "output_type": "stream",
          "text": [
            "✅ Model saved as lung_model.pkl\n"
          ]
        }
      ],
      "source": [
        "with open(\"lung_model.pkl\", \"wb\") as f:\n",
        "    pickle.dump(model, f)\n",
        "\n",
        "print(\"✅ Model saved as lung_model.pkl\")\n"
      ]
    },
    {
      "cell_type": "code",
      "execution_count": null,
      "metadata": {
        "colab": {
          "base_uri": "https://localhost:8080/",
          "height": 17
        },
        "id": "NVS49stBM8g-",
        "outputId": "b2502a9e-53ad-40f3-a6ce-0c4057db42c3"
      },
      "outputs": [
        {
          "data": {
            "application/javascript": "\n    async function download(id, filename, size) {\n      if (!google.colab.kernel.accessAllowed) {\n        return;\n      }\n      const div = document.createElement('div');\n      const label = document.createElement('label');\n      label.textContent = `Downloading \"${filename}\": `;\n      div.appendChild(label);\n      const progress = document.createElement('progress');\n      progress.max = size;\n      div.appendChild(progress);\n      document.body.appendChild(div);\n\n      const buffers = [];\n      let downloaded = 0;\n\n      const channel = await google.colab.kernel.comms.open(id);\n      // Send a message to notify the kernel that we're ready.\n      channel.send({})\n\n      for await (const message of channel.messages) {\n        // Send a message to notify the kernel that we're ready.\n        channel.send({})\n        if (message.buffers) {\n          for (const buffer of message.buffers) {\n            buffers.push(buffer);\n            downloaded += buffer.byteLength;\n            progress.value = downloaded;\n          }\n        }\n      }\n      const blob = new Blob(buffers, {type: 'application/binary'});\n      const a = document.createElement('a');\n      a.href = window.URL.createObjectURL(blob);\n      a.download = filename;\n      div.appendChild(a);\n      a.click();\n      div.remove();\n    }\n  ",
            "text/plain": [
              "<IPython.core.display.Javascript object>"
            ]
          },
          "metadata": {},
          "output_type": "display_data"
        },
        {
          "data": {
            "application/javascript": "download(\"download_bda714fc-1b2a-40b8-ad62-92508fbd3f37\", \"lung_model.pkl\", 319129)",
            "text/plain": [
              "<IPython.core.display.Javascript object>"
            ]
          },
          "metadata": {},
          "output_type": "display_data"
        }
      ],
      "source": [
        "from google.colab import files\n",
        "files.download(\"lung_model.pkl\")\n"
      ]
    },
    {
      "cell_type": "code",
      "execution_count": null,
      "metadata": {
        "id": "76-RiGUAM8eR"
      },
      "outputs": [],
      "source": []
    },
    {
      "cell_type": "code",
      "execution_count": null,
      "metadata": {
        "id": "uanBQOv2M8b2"
      },
      "outputs": [],
      "source": []
    },
    {
      "cell_type": "code",
      "execution_count": null,
      "metadata": {
        "id": "UtDO8loSM8aL"
      },
      "outputs": [],
      "source": []
    }
  ],
  "metadata": {
    "colab": {
      "provenance": []
    },
    "kernelspec": {
      "display_name": "Python 3",
      "name": "python3"
    },
    "language_info": {
      "codemirror_mode": {
        "name": "ipython",
        "version": 3
      },
      "file_extension": ".py",
      "mimetype": "text/x-python",
      "name": "python",
      "nbconvert_exporter": "python",
      "pygments_lexer": "ipython3",
      "version": "3.12.0"
    }
  },
  "nbformat": 4,
  "nbformat_minor": 0
}
